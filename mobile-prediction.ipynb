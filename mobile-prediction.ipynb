{
 "cells": [
  {
   "cell_type": "markdown",
   "metadata": {},
   "source": [
    "Importing the required liabraries"
   ]
  },
  {
   "cell_type": "code",
   "execution_count": 1,
   "metadata": {},
   "outputs": [],
   "source": [
    "import numpy as np\n",
    "import pandas as pd\n",
    "import matplotlib.pyplot as plt\n",
    "from sklearn.preprocessing import LabelEncoder\n",
    "from sklearn.preprocessing import StandardScaler\n",
    "from sklearn.model_selection import train_test_split\n",
    "from sklearn.metrics import accuracy_score\n",
    "import math\n",
    "import random\n",
    "from sklearn.metrics import confusion_matrix\n",
    "from tqdm import tqdm_notebook"
   ]
  },
  {
   "cell_type": "markdown",
   "metadata": {},
   "source": [
    "Importing the dataset"
   ]
  },
  {
   "cell_type": "code",
   "execution_count": 2,
   "metadata": {},
   "outputs": [],
   "source": [
    "dataset = pd.read_csv(\"../input/contest1likeordislike/train.csv\")\n",
    "features = [\"Brand\", \"Capacity\", \"Network Support\", \"Operating System\", \"Screen Size\", \"Internal Memory\", \"RAM\", \"VoLTE\"]     # 8 features selected\n",
    "X_train = dataset[features]\n",
    "y_train = dataset[[\"Rating\"]]\n",
    "X_test = pd.read_csv(\"../input/contest1likeordislike/test.csv\")[features]\n",
    "total_dataset = pd.concat([X_train, X_test], ignore_index=True)"
   ]
  },
  {
   "cell_type": "markdown",
   "metadata": {},
   "source": [
    "Cleaning the dataset"
   ]
  },
  {
   "cell_type": "code",
   "execution_count": 3,
   "metadata": {},
   "outputs": [
    {
     "name": "stderr",
     "output_type": "stream",
     "text": [
      "/opt/conda/lib/python3.6/site-packages/sklearn/preprocessing/_label.py:251: DataConversionWarning: A column-vector y was passed when a 1d array was expected. Please change the shape of y to (n_samples, ), for example using ravel().\n",
      "  y = column_or_1d(y, warn=True)\n"
     ]
    }
   ],
   "source": [
    "#############################\n",
    "# Filling out the missing values\n",
    "#############################\n",
    "# Remove columns containing nan in Brand\n",
    "X_train.isnull().sum()\n",
    "X_test.isnull().sum()\n",
    "total_dataset = total_dataset.drop(5)\n",
    "\n",
    "# Filling missing values in Operating System\n",
    "total_dataset.isnull().sum()\n",
    "total_dataset[\"Operating System\"] = total_dataset[\"Operating System\"].fillna(\"Android v8.1 (Oreo)\")\n",
    "\n",
    "# Filling missing values in VoLTE\n",
    "total_dataset[\"VoLTE\"] = total_dataset[\"VoLTE\"].fillna(\"no\")\n",
    "\n",
    "#############################\n",
    "# Encoding the categorical data\n",
    "#############################\n",
    "# Encoding the brands\n",
    "labelcoder = LabelEncoder()\n",
    "total_dataset[\"Brand\"] = labelcoder.fit_transform(total_dataset[\"Brand\"])\n",
    "\n",
    "# Encoding the Network Support\n",
    "labelcoder2 = LabelEncoder()\n",
    "total_dataset[[\"Network Support\"]] = labelcoder2.fit_transform(total_dataset[[\"Network Support\"]])\n",
    "\n",
    "# Encoding the Operating System\n",
    "labelcode3 = LabelEncoder()\n",
    "total_dataset[[\"Operating System\"]] = labelcode3.fit_transform(total_dataset[[\"Operating System\"]])\n",
    "\n",
    "# Getting the capacity values\n",
    "total_dataset[\"Capacity\"] = total_dataset[\"Capacity\"].str.rstrip(\" mAh\")\n",
    "total_dataset[\"Capacity\"] = total_dataset[\"Capacity\"].astype(int)\n",
    "\n",
    "# Getting the Screen Size value\n",
    "for index, row in total_dataset.iterrows():\n",
    "    total_dataset.at[index, \"Screen Size\"] = row[\"Screen Size\"].split(\" \")[0]\n",
    "total_dataset[\"Screen Size\"] = total_dataset[\"Screen Size\"].astype(float)\n",
    "\n",
    "\n",
    "# Encoding VoLTE\n",
    "labelcoder4 = LabelEncoder()\n",
    "total_dataset[[\"VoLTE\"]] = labelcoder4.fit_transform(total_dataset[[\"VoLTE\"]])\n",
    "\n",
    "# Getting the Internal Memory\n",
    "total_dataset[\"Internal Memory\"] = total_dataset[\"Internal Memory\"].fillna(\"Random\")\n",
    "for index, row in total_dataset.iterrows():\n",
    "    if (row['Internal Memory'].split(\" \")[0] == \"Random\"):\n",
    "        total_dataset.at[index, 'Internal Memory'] = 0\n",
    "    else:\n",
    "        total_dataset.at[index, 'Internal Memory'] = row['Internal Memory'].split(\" \")[0]\n",
    "total_dataset['Internal Memory'] = total_dataset['Internal Memory'].astype(float)\n",
    "total_dataset['Internal Memory'] = total_dataset['Internal Memory'].replace(0, 32)\n",
    "\n",
    "# Getting the RAM\n",
    "total_dataset[\"RAM\"] = total_dataset[\"RAM\"].fillna(\"Random\")\n",
    "for index, row in total_dataset.iterrows():\n",
    "    if (row['RAM'].split(\" \")[0] == \"Random\"):\n",
    "        total_dataset.at[index, 'RAM'] = float(0)\n",
    "    else:\n",
    "        if(row['RAM'].split(\" \")[1] == \"MB\"):\n",
    "            total_dataset.at[index, 'RAM'] = float(row['RAM'].split(\" \")[0])/1024\n",
    "        else:\n",
    "            total_dataset.at[index, 'RAM'] = float(row['RAM'].split(\" \")[0])\n",
    "total_dataset[\"RAM\"] = total_dataset[\"RAM\"].astype(float)\n",
    "total_dataset['RAM'] = total_dataset['RAM'].replace(0, 4)\n",
    "\n",
    "#############################\n",
    "# Encoding the results\n",
    "#############################\n",
    "# Deleting row 5\n",
    "y_train = y_train.drop(5)\n",
    "\n",
    "# Encoding the rating\n",
    "for index, row in y_train.iterrows():\n",
    "    if(row[\"Rating\"] >= 4):\n",
    "        y_train.at[index, \"Rating\"] = 1\n",
    "    else:\n",
    "        y_train.at[index, \"Rating\"] = 0\n",
    "        \n",
    "#############################\n",
    "# Splitting data back into train and test set\n",
    "#############################\n",
    "X_train = total_dataset.iloc[:354, :]\n",
    "X_test = total_dataset.iloc[354:, :]"
   ]
  },
  {
   "cell_type": "markdown",
   "metadata": {},
   "source": [
    "Scaling of dataset elements"
   ]
  },
  {
   "cell_type": "code",
   "execution_count": 4,
   "metadata": {},
   "outputs": [],
   "source": [
    "scaler = StandardScaler()\n",
    "X_train = scaler.fit_transform(X_train)\n",
    "bias1 = np.ones((354, 1))\n",
    "X_train = np.append(bias1, X_train, axis=1)\n",
    "X_test = scaler.transform(X_test)\n",
    "bias2 = np.ones((119, 1))\n",
    "X_test = np.append(bias2, X_test, axis = 1)"
   ]
  },
  {
   "cell_type": "markdown",
   "metadata": {},
   "source": [
    "Splitting into Training, Validation and Testing sets"
   ]
  },
  {
   "cell_type": "code",
   "execution_count": 5,
   "metadata": {},
   "outputs": [],
   "source": [
    "x_train, x_test, y_train, y_test = train_test_split(X_train, y_train, test_size = 0.25, random_state =1, stratify = y_train)\n",
    "x_val, x_test, y_val, y_test = train_test_split(x_test, y_test, test_size = 0.5, random_state = 1, stratify = y_test)\n",
    "y_train = y_train.to_numpy()\n",
    "y_val = y_val.to_numpy()\n",
    "y_test = y_test.to_numpy()"
   ]
  },
  {
   "cell_type": "code",
   "execution_count": 6,
   "metadata": {},
   "outputs": [
    {
     "name": "stdout",
     "output_type": "stream",
     "text": [
      "(265, 9) (265, 1) (45, 9) (45, 1) (44, 9) (44, 1) (119, 9)\n"
     ]
    }
   ],
   "source": [
    "print(x_train.shape, y_train.shape, x_test.shape, y_test.shape, x_val.shape, y_val.shape, X_test.shape)"
   ]
  },
  {
   "cell_type": "code",
   "execution_count": 7,
   "metadata": {},
   "outputs": [],
   "source": [
    "class NeuralNetwork:\n",
    "    def __init__(self, hidden1_size):\n",
    "        self.hidden1_size = hidden1_size\n",
    "        self.w1 = np.random.randn(hidden1_size, 9)\n",
    "        self.w2 = np.random.randn(1, hidden1_size+1)\n",
    "        self.a1 = np.ones(hidden1_size+1)\n",
    "        self.a2 = None\n",
    "    def Sigmoid(self, x):\n",
    "        s = 1 + math.exp(-x)\n",
    "        s = 1/s\n",
    "        return s\n",
    "    def model(self, x):\n",
    "        for i in range(self.hidden1_size):\n",
    "            self.a1[i] = self.Sigmoid(np.dot(self.w1[i], x))\n",
    "        self.a2 = self.Sigmoid(np.dot(self.w2, self.a1))\n",
    "        return self.a2\n",
    "    def predict(self, X):\n",
    "        y = []\n",
    "        for x in X:\n",
    "            y_pred = 1 if self.model(x)>=0.5 else 0\n",
    "            y.append(y_pred)\n",
    "        return y\n",
    "    def Loss(self, y_pred, y):\n",
    "        loss = y*np.log(y_pred) + (1 - y)*np.log(1 - y_pred)\n",
    "        return loss\n",
    "    def fit(self, X, Y, epochs, lr, size):\n",
    "        loss_matrix = []\n",
    "        acc_matrix = []\n",
    "        acc_val_matrix = []\n",
    "        for i in tqdm_notebook(range(epochs), total=epochs, unit=\"epoch\"):\n",
    "            loss = 0\n",
    "            for x, y in zip(X, Y):\n",
    "                self.a2 = self.model(x)\n",
    "                y_hat = self.a2\n",
    "                loss = loss + self.Loss(y_hat, y)\n",
    "                for i in range(self.hidden1_size+1):\n",
    "                    self.w2[0, i] = self.w2[0, i] - lr*(y_hat - y)*self.a1[i]\n",
    "                for i in range(self.hidden1_size):\n",
    "                    for j in range(9):\n",
    "                        self.w1[i, j] = self.w1[i, j] - lr*(y_hat - y)*self.w2[0, i]*self.a1[i]*(1 - self.a1[i])*x[j]\n",
    "            loss_matrix.append(-loss[0]/size)\n",
    "            acc = accuracy_score(self.predict(X), Y)\n",
    "            acc_val = accuracy_score(self.predict(x_val), y_val)\n",
    "            acc_matrix.append(acc)\n",
    "            acc_val_matrix.append(acc_val)\n",
    "        plt.plot(loss_matrix, 'r-')\n",
    "        plt.plot(acc_matrix, 'b-')\n",
    "        plt.plot(acc_val_matrix, 'g-')\n",
    "        print('Loss before training: ', loss_matrix[0])\n",
    "        print('Loss after training: ', loss_matrix[-1])\n",
    "        print('Accuracy before training: ', acc_matrix[0])\n",
    "        print('Accuracy after training: ', acc_matrix[-1])"
   ]
  },
  {
   "cell_type": "code",
   "execution_count": 8,
   "metadata": {},
   "outputs": [],
   "source": [
    "fn = NeuralNetwork(10)"
   ]
  },
  {
   "cell_type": "code",
   "execution_count": 9,
   "metadata": {},
   "outputs": [
    {
     "name": "stderr",
     "output_type": "stream",
     "text": [
      "/opt/conda/lib/python3.6/site-packages/ipykernel_launcher.py:30: TqdmDeprecationWarning: This function will be removed in tqdm==5.0.0\n",
      "Please use `tqdm.notebook.tqdm` instead of `tqdm.tqdm_notebook`\n"
     ]
    },
    {
     "data": {
      "application/vnd.jupyter.widget-view+json": {
       "model_id": "bd63481d4bb94e8db74db58f477c174a",
       "version_major": 2,
       "version_minor": 0
      },
      "text/plain": [
       "HBox(children=(FloatProgress(value=0.0, max=500.0), HTML(value='')))"
      ]
     },
     "metadata": {},
     "output_type": "display_data"
    },
    {
     "name": "stdout",
     "output_type": "stream",
     "text": [
      "\n",
      "Loss before training:  0.6606517604415721\n",
      "Loss after training:  0.2954498229755198\n",
      "Accuracy before training:  0.6981132075471698\n",
      "Accuracy after training:  0.8905660377358491\n"
     ]
    },
    {
     "data": {
      "image/png": "[encoded data removed]",
      "text/plain": [
       "<Figure size 432x288 with 1 Axes>"
      ]
     },
     "metadata": {
      "needs_background": "light"
     },
     "output_type": "display_data"
    }
   ],
   "source": [
    "ans = fn.fit(x_train, y_train, 500, 0.024, 283)"
   ]
  },
  {
   "cell_type": "markdown",
   "metadata": {},
   "source": [
    "Validation Set Score"
   ]
  },
  {
   "cell_type": "code",
   "execution_count": 10,
   "metadata": {},
   "outputs": [
    {
     "name": "stdout",
     "output_type": "stream",
     "text": [
      "Validation Set Accuracy : 0.75\n"
     ]
    }
   ],
   "source": [
    "print(\"Validation Set Accuracy : \"+str(accuracy_score(fn.predict(x_val), y_val)))"
   ]
  },
  {
   "cell_type": "markdown",
   "metadata": {},
   "source": [
    "Test Set Score"
   ]
  },
  {
   "cell_type": "code",
   "execution_count": 11,
   "metadata": {},
   "outputs": [
    {
     "name": "stdout",
     "output_type": "stream",
     "text": [
      "Test Set Accuracy : 0.7555555555555555\n"
     ]
    }
   ],
   "source": [
    "print(\"Test Set Accuracy : \"+str(accuracy_score(fn.predict(x_test), y_test)))"
   ]
  },
  {
   "cell_type": "markdown",
   "metadata": {},
   "source": [
    "Submission file creation"
   ]
  },
  {
   "cell_type": "code",
   "execution_count": 12,
   "metadata": {},
   "outputs": [],
   "source": [
    "submission = fn.predict(X_test)\n",
    "submission = pd.DataFrame(submission)\n",
    "phone_id = pd.read_csv(\"../input/contest1likeordislike/test.csv\")\n",
    "phone_id = phone_id[\"PhoneId\"]\n",
    "submission = pd.concat([phone_id, submission], axis = 1)\n",
    "submission.to_csv(\"submission3.csv\", header = [\"PhoneId\", \"Class\"], index = False)"
   ]
  },
  {
   "cell_type": "code",
   "execution_count": null,
   "metadata": {},
   "outputs": [],
   "source": []
  }
 ],
 "metadata": {
  "kernelspec": {
   "display_name": "Python 3",
   "language": "python",
   "name": "python3"
  },
  "language_info": {
   "codemirror_mode": {
    "name": "ipython",
    "version": 3
   },
   "file_extension": ".py",
   "mimetype": "text/x-python",
   "name": "python",
   "nbconvert_exporter": "python",
   "pygments_lexer": "ipython3",
   "version": "3.6.6"
  },
  "widgets": {
   "application/vnd.jupyter.widget-state+json": {
    "state": {
     "1326e727d3aa4b3b9d24f36db2a19497": {
      "model_module": "@jupyter-widgets/controls",
      "model_module_version": "1.5.0",
      "model_name": "DescriptionStyleModel",
      "state": {
       "_model_module": "@jupyter-widgets/controls",
       "_model_module_version": "1.5.0",
       "_model_name": "DescriptionStyleModel",
       "_view_count": null,
       "_view_module": "@jupyter-widgets/base",
       "_view_module_version": "1.2.0",
       "_view_name": "StyleView",
       "description_width": ""
      }
     },
     "1c90c51fc96a4643a9313bd4882cef32": {
      "model_module": "@jupyter-widgets/base",
      "model_module_version": "1.2.0",
      "model_name": "LayoutModel",
      "state": {
       "_model_module": "@jupyter-widgets/base",
       "_model_module_version": "1.2.0",
       "_model_name": "LayoutModel",
       "_view_count": null,
       "_view_module": "@jupyter-widgets/base",
       "_view_module_version": "1.2.0",
       "_view_name": "LayoutView",
       "align_content": null,
       "align_items": null,
       "align_self": null,
       "border": null,
       "bottom": null,
       "display": null,
       "flex": null,
       "flex_flow": null,
       "grid_area": null,
       "grid_auto_columns": null,
       "grid_auto_flow": null,
       "grid_auto_rows": null,
       "grid_column": null,
       "grid_gap": null,
       "grid_row": null,
       "grid_template_areas": null,
       "grid_template_columns": null,
       "grid_template_rows": null,
       "height": null,
       "justify_content": null,
       "justify_items": null,
       "left": null,
       "margin": null,
       "max_height": null,
       "max_width": null,
       "min_height": null,
       "min_width": null,
       "object_fit": null,
       "object_position": null,
       "order": null,
       "overflow": null,
       "overflow_x": null,
       "overflow_y": null,
       "padding": null,
       "right": null,
       "top": null,
       "visibility": null,
       "width": null
      }
     },
     "3390e2bb5b58449cbbc7bcfb5ae8be63": {
      "model_module": "@jupyter-widgets/base",
      "model_module_version": "1.2.0",
      "model_name": "LayoutModel",
      "state": {
       "_model_module": "@jupyter-widgets/base",
       "_model_module_version": "1.2.0",
       "_model_name": "LayoutModel",
       "_view_count": null,
       "_view_module": "@jupyter-widgets/base",
       "_view_module_version": "1.2.0",
       "_view_name": "LayoutView",
       "align_content": null,
       "align_items": null,
       "align_self": null,
       "border": null,
       "bottom": null,
       "display": null,
       "flex": null,
       "flex_flow": null,
       "grid_area": null,
       "grid_auto_columns": null,
       "grid_auto_flow": null,
       "grid_auto_rows": null,
       "grid_column": null,
       "grid_gap": null,
       "grid_row": null,
       "grid_template_areas": null,
       "grid_template_columns": null,
       "grid_template_rows": null,
       "height": null,
       "justify_content": null,
       "justify_items": null,
       "left": null,
       "margin": null,
       "max_height": null,
       "max_width": null,
       "min_height": null,
       "min_width": null,
       "object_fit": null,
       "object_position": null,
       "order": null,
       "overflow": null,
       "overflow_x": null,
       "overflow_y": null,
       "padding": null,
       "right": null,
       "top": null,
       "visibility": null,
       "width": null
      }
     },
     "617c02578670408396e5ac7247047cf4": {
      "model_module": "@jupyter-widgets/controls",
      "model_module_version": "1.5.0",
      "model_name": "ProgressStyleModel",
      "state": {
       "_model_module": "@jupyter-widgets/controls",
       "_model_module_version": "1.5.0",
       "_model_name": "ProgressStyleModel",
       "_view_count": null,
       "_view_module": "@jupyter-widgets/base",
       "_view_module_version": "1.2.0",
       "_view_name": "StyleView",
       "bar_color": null,
       "description_width": "initial"
      }
     },
     "6fb7cc6ff2134d4f81f3933bc539c5eb": {
      "model_module": "@jupyter-widgets/controls",
      "model_module_version": "1.5.0",
      "model_name": "FloatProgressModel",
      "state": {
       "_dom_classes": [],
       "_model_module": "@jupyter-widgets/controls",
       "_model_module_version": "1.5.0",
       "_model_name": "FloatProgressModel",
       "_view_count": null,
       "_view_module": "@jupyter-widgets/controls",
       "_view_module_version": "1.5.0",
       "_view_name": "ProgressView",
       "bar_style": "success",
       "description": "100%",
       "description_tooltip": null,
       "layout": "IPY_MODEL_3390e2bb5b58449cbbc7bcfb5ae8be63",
       "max": 500.0,
       "min": 0.0,
       "orientation": "horizontal",
       "style": "IPY_MODEL_617c02578670408396e5ac7247047cf4",
       "value": 500.0
      }
     },
     "73be5ac6a1c94238a00804ce2b1dacc4": {
      "model_module": "@jupyter-widgets/controls",
      "model_module_version": "1.5.0",
      "model_name": "HTMLModel",
      "state": {
       "_dom_classes": [],
       "_model_module": "@jupyter-widgets/controls",
       "_model_module_version": "1.5.0",
       "_model_name": "HTMLModel",
       "_view_count": null,
       "_view_module": "@jupyter-widgets/controls",
       "_view_module_version": "1.5.0",
       "_view_name": "HTMLView",
       "description": "",
       "description_tooltip": null,
       "layout": "IPY_MODEL_1c90c51fc96a4643a9313bd4882cef32",
       "placeholder": "​",
       "style": "IPY_MODEL_1326e727d3aa4b3b9d24f36db2a19497",
       "value": " 500/500 [04:29&lt;00:00,  1.85epoch/s]"
      }
     },
     "9c24346a29e642f9a02560734affbef1": {
      "model_module": "@jupyter-widgets/base",
      "model_module_version": "1.2.0",
      "model_name": "LayoutModel",
      "state": {
       "_model_module": "@jupyter-widgets/base",
       "_model_module_version": "1.2.0",
       "_model_name": "LayoutModel",
       "_view_count": null,
       "_view_module": "@jupyter-widgets/base",
       "_view_module_version": "1.2.0",
       "_view_name": "LayoutView",
       "align_content": null,
       "align_items": null,
       "align_self": null,
       "border": null,
       "bottom": null,
       "display": null,
       "flex": null,
       "flex_flow": null,
       "grid_area": null,
       "grid_auto_columns": null,
       "grid_auto_flow": null,
       "grid_auto_rows": null,
       "grid_column": null,
       "grid_gap": null,
       "grid_row": null,
       "grid_template_areas": null,
       "grid_template_columns": null,
       "grid_template_rows": null,
       "height": null,
       "justify_content": null,
       "justify_items": null,
       "left": null,
       "margin": null,
       "max_height": null,
       "max_width": null,
       "min_height": null,
       "min_width": null,
       "object_fit": null,
       "object_position": null,
       "order": null,
       "overflow": null,
       "overflow_x": null,
       "overflow_y": null,
       "padding": null,
       "right": null,
       "top": null,
       "visibility": null,
       "width": null
      }
     },
     "bd63481d4bb94e8db74db58f477c174a": {
      "model_module": "@jupyter-widgets/controls",
      "model_module_version": "1.5.0",
      "model_name": "HBoxModel",
      "state": {
       "_dom_classes": [],
       "_model_module": "@jupyter-widgets/controls",
       "_model_module_version": "1.5.0",
       "_model_name": "HBoxModel",
       "_view_count": null,
       "_view_module": "@jupyter-widgets/controls",
       "_view_module_version": "1.5.0",
       "_view_name": "HBoxView",
       "box_style": "",
       "children": [
        "IPY_MODEL_6fb7cc6ff2134d4f81f3933bc539c5eb",
        "IPY_MODEL_73be5ac6a1c94238a00804ce2b1dacc4"
       ],
       "layout": "IPY_MODEL_9c24346a29e642f9a02560734affbef1"
      }
     }
    },
    "version_major": 2,
    "version_minor": 0
   }
  }
 },
 "nbformat": 4,
 "nbformat_minor": 4
}
