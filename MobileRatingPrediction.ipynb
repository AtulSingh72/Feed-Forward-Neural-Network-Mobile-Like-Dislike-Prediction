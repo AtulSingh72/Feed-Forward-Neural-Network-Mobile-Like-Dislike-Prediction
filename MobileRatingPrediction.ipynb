{
 "cells": [
  {
   "cell_type": "markdown",
   "metadata": {},
   "source": [
    "# Importing the Liabraries"
   ]
  },
  {
   "cell_type": "code",
   "execution_count": 5,
   "metadata": {},
   "outputs": [],
   "source": [
    "import numpy as np\n",
    "import pandas as pd\n",
    "import matplotlib.pyplot as plt\n",
    "from sklearn.preprocessing import LabelEncoder\n",
    "from sklearn.preprocessing import StandardScaler\n",
    "from sklearn.model_selection import train_test_split\n",
    "from sklearn.metrics import accuracy_score, mean_squared_error\n",
    "import math\n",
    "import random\n",
    "from sklearn.metrics import confusion_matrix\n",
    "from tqdm import tqdm_notebook"
   ]
  },
  {
   "cell_type": "markdown",
   "metadata": {},
   "source": [
    "# Importing the Dataset"
   ]
  },
  {
   "cell_type": "code",
   "execution_count": 6,
   "metadata": {},
   "outputs": [],
   "source": [
    "dataset = pd.read_csv(\"train.csv\")\n",
    "features = [\"Brand\", \"Capacity\", \"Network Support\", \"Operating System\", \"Screen Size\", \"Internal Memory\", \"RAM\", \"VoLTE\"]     # 8 features selected\n",
    "X_train = dataset[features]\n",
    "y_train = dataset[[\"Rating\"]]\n",
    "X_test = pd.read_csv(\"test.csv\")[features]\n",
    "total_dataset = pd.concat([X_train, X_test], ignore_index=True)"
   ]
  },
  {
   "cell_type": "markdown",
   "metadata": {},
   "source": [
    "# Cleaning the Dataset"
   ]
  },
  {
   "cell_type": "code",
   "execution_count": 7,
   "metadata": {},
   "outputs": [
    {
     "name": "stderr",
     "output_type": "stream",
     "text": [
      "C:\\Users\\Atul Singh\\Anaconda3\\lib\\site-packages\\sklearn\\preprocessing\\label.py:235: DataConversionWarning: A column-vector y was passed when a 1d array was expected. Please change the shape of y to (n_samples, ), for example using ravel().\n",
      "  y = column_or_1d(y, warn=True)\n"
     ]
    }
   ],
   "source": [
    "#############################\n",
    "# Filling out the missing values\n",
    "#############################\n",
    "# Remove columns containing nan in Brand\n",
    "X_train.isnull().sum()\n",
    "X_test.isnull().sum()\n",
    "total_dataset = total_dataset.drop(5)\n",
    "\n",
    "# Filling missing values in Operating System\n",
    "total_dataset.isnull().sum()\n",
    "total_dataset[\"Operating System\"] = total_dataset[\"Operating System\"].fillna(\"Android v8.1 (Oreo)\")\n",
    "\n",
    "# Filling missing values in VoLTE\n",
    "total_dataset[\"VoLTE\"] = total_dataset[\"VoLTE\"].fillna(\"no\")\n",
    "\n",
    "#############################\n",
    "# Encoding the categorical data\n",
    "#############################\n",
    "# Encoding the brands\n",
    "labelcoder = LabelEncoder()\n",
    "total_dataset[\"Brand\"] = labelcoder.fit_transform(total_dataset[\"Brand\"])\n",
    "\n",
    "# Encoding the Network Support\n",
    "labelcoder2 = LabelEncoder()\n",
    "total_dataset[[\"Network Support\"]] = labelcoder2.fit_transform(total_dataset[[\"Network Support\"]])\n",
    "\n",
    "# Encoding the Operating System\n",
    "labelcode3 = LabelEncoder()\n",
    "total_dataset[[\"Operating System\"]] = labelcode3.fit_transform(total_dataset[[\"Operating System\"]])\n",
    "\n",
    "# Getting the capacity values\n",
    "total_dataset[\"Capacity\"] = total_dataset[\"Capacity\"].str.rstrip(\" mAh\")\n",
    "total_dataset[\"Capacity\"] = total_dataset[\"Capacity\"].astype(int)\n",
    "\n",
    "# Getting the Screen Size value\n",
    "for index, row in total_dataset.iterrows():\n",
    "    total_dataset.at[index, \"Screen Size\"] = row[\"Screen Size\"].split(\" \")[0]\n",
    "total_dataset[\"Screen Size\"] = total_dataset[\"Screen Size\"].astype(float)\n",
    "\n",
    "# Encoding VoLTE\n",
    "labelcoder4 = LabelEncoder()\n",
    "total_dataset[[\"VoLTE\"]] = labelcoder4.fit_transform(total_dataset[[\"VoLTE\"]])\n",
    "\n",
    "# Getting the Internal Memory\n",
    "total_dataset[\"Internal Memory\"] = total_dataset[\"Internal Memory\"].fillna(\"Random\")\n",
    "for index, row in total_dataset.iterrows():\n",
    "    if (row['Internal Memory'].split(\" \")[0] == \"Random\"):\n",
    "        total_dataset.at[index, 'Internal Memory'] = 0\n",
    "    else:\n",
    "        total_dataset.at[index, 'Internal Memory'] = row['Internal Memory'].split(\" \")[0]\n",
    "total_dataset['Internal Memory'] = total_dataset['Internal Memory'].astype(float)\n",
    "total_dataset['Internal Memory'] = total_dataset['Internal Memory'].replace(0, 32)\n",
    "\n",
    "# Getting the RAM\n",
    "total_dataset[\"RAM\"] = total_dataset[\"RAM\"].fillna(\"Random\")\n",
    "for index, row in total_dataset.iterrows():\n",
    "    if (row['RAM'].split(\" \")[0] == \"Random\"):\n",
    "        total_dataset.at[index, 'RAM'] = float(0)\n",
    "    else:\n",
    "        if(row['RAM'].split(\" \")[1] == \"MB\"):\n",
    "            total_dataset.at[index, 'RAM'] = float(row['RAM'].split(\" \")[0])/1024\n",
    "        else:\n",
    "            total_dataset.at[index, 'RAM'] = float(row['RAM'].split(\" \")[0])\n",
    "total_dataset[\"RAM\"] = total_dataset[\"RAM\"].astype(float)\n",
    "total_dataset['RAM'] = total_dataset['RAM'].replace(0, 4)\n",
    "\n",
    "#############################\n",
    "# Encoding the results\n",
    "#############################\n",
    "# Deleting row 5\n",
    "y_train = y_train.drop(5)\n",
    "\n",
    "# Encoding the rating\n",
    "for index, row in y_train.iterrows():\n",
    "    if(row[\"Rating\"] >= 4):\n",
    "        y_train.at[index, \"Rating\"] = 1\n",
    "    else:\n",
    "        y_train.at[index, \"Rating\"] = 0\n",
    "        \n",
    "#############################\n",
    "# Splitting data back into train and test set\n",
    "#############################\n",
    "X_train = total_dataset.iloc[:354, :]\n",
    "X_test = total_dataset.iloc[354:, :]"
   ]
  },
  {
   "cell_type": "markdown",
   "metadata": {},
   "source": [
    "# Scaling of the Dataset"
   ]
  },
  {
   "cell_type": "code",
   "execution_count": 8,
   "metadata": {},
   "outputs": [],
   "source": [
    "scaler = StandardScaler()\n",
    "X_train = scaler.fit_transform(X_train)\n",
    "X_test = scaler.transform(X_test)"
   ]
  },
  {
   "cell_type": "markdown",
   "metadata": {},
   "source": [
    "# Splitting into the Train Test and Validation sets"
   ]
  },
  {
   "cell_type": "code",
   "execution_count": 9,
   "metadata": {},
   "outputs": [],
   "source": [
    "x_train, x_test, y_train, y_test = train_test_split(X_train, y_train, test_size = 0.25, random_state =1, stratify = y_train)\n",
    "x_val, x_test, y_val, y_test = train_test_split(x_test, y_test, test_size = 0.5, random_state = 1, stratify = y_test)\n",
    "y_train = y_train.to_numpy()\n",
    "y_val = y_val.to_numpy()\n",
    "y_test = y_test.to_numpy()"
   ]
  },
  {
   "cell_type": "code",
   "execution_count": 10,
   "metadata": {},
   "outputs": [
    {
     "name": "stdout",
     "output_type": "stream",
     "text": [
      "(265, 8) (265, 1) (45, 8) (45, 1) (44, 8) (44, 1) (119, 8)\n"
     ]
    }
   ],
   "source": [
    "print(x_train.shape, y_train.shape, x_test.shape, y_test.shape, x_val.shape, y_val.shape, X_test.shape)"
   ]
  },
  {
   "cell_type": "markdown",
   "metadata": {},
   "source": [
    "# Neural Network Class"
   ]
  },
  {
   "cell_type": "code",
   "execution_count": 15,
   "metadata": {},
   "outputs": [],
   "source": [
    "class NeuralNetwork:\n",
    "    def __init__(self, input_size, hidden_size):\n",
    "        self.nx = input_size\n",
    "        self.nh = len(hidden_size)\n",
    "        self.no = 1\n",
    "        self.size = [self.nx] + hidden_size + [self.no]\n",
    "        self.w = {}\n",
    "        self.b = {}\n",
    "        for i in range(self.nh + 1):\n",
    "            self.w[i+1] = np.random.randn(self.size[i], self.size[i+1])\n",
    "            self.b[i+1] = np.zeros((1, self.size[i+1]))\n",
    "    def Sigmoid(self, x):\n",
    "        return 1/(1 + np.exp(-x))\n",
    "    def model(self, x):\n",
    "        self.h = {}\n",
    "        self.a = {}\n",
    "        self.a[0] = x.reshape(1, -1)\n",
    "        for i in range(self.nh + 1):\n",
    "            self.h[i+1] = np.matmul(self.a[i], self.w[i+1]) + self.b[i+1]\n",
    "            self.a[i+1] = self.Sigmoid(self.h[i+1])\n",
    "        return self.a[self.nh + 1]\n",
    "    def grad_Sigmoid(self, x):\n",
    "        return x*(1 - x)\n",
    "    def grad(self, x, y):\n",
    "        self.model(x)\n",
    "        self.dh = {}\n",
    "        self.da = {}\n",
    "        self.db = {}\n",
    "        self.dw = {}\n",
    "        self.dh[self.nh + 1] = (self.a[self.nh + 1] - y)\n",
    "        for i in range(self.nh + 1, 0, -1):\n",
    "            self.dw[i] = np.matmul(self.a[i-1].T, self.dh[i])\n",
    "            self.db[i] = self.dh[i]\n",
    "            self.da[i-1] = np.matmul(self.dh[i], self.w[i].T)\n",
    "            self.dh[i-1] = np.multiply(self.da[i-1], self.grad_Sigmoid(self.a[i-1]))\n",
    "    def predict(self, X):\n",
    "        Y_pred = []\n",
    "        for x in X:\n",
    "            y_pred = self.model(x)\n",
    "            Y_pred.append(y_pred)\n",
    "        return np.array(Y_pred).squeeze()\n",
    "\n",
    "    def fit(self, X, Y, epochs, lr):\n",
    "        loss = []\n",
    "        m = X.shape[1]\n",
    "        for z in tqdm_notebook(range(epochs), total=epochs, unit=\"epoch\"):\n",
    "            for x,y in zip(X, Y):\n",
    "                self.grad(x, y)\n",
    "                for i in range(self.nh + 1):\n",
    "                    self.w[i+1] -= lr * self.dw[i+1]/m\n",
    "                    self.b[i+1] -= lr * self.db[i+1]/m\n",
    "            y_pred = self.predict(X)\n",
    "            loss.append(mean_squared_error(y_pred, Y))   \n",
    "        plt.plot(loss, 'r-');\n",
    "        return self.w[1]"
   ]
  },
  {
   "cell_type": "markdown",
   "metadata": {},
   "source": [
    "# Weights and Bias Initialization along with object creation"
   ]
  },
  {
   "cell_type": "code",
   "execution_count": 41,
   "metadata": {},
   "outputs": [],
   "source": [
    "ffnn = NeuralNetwork(8, [])"
   ]
  },
  {
   "cell_type": "markdown",
   "metadata": {},
   "source": [
    "# Training the Dataset"
   ]
  },
  {
   "cell_type": "code",
   "execution_count": 42,
   "metadata": {},
   "outputs": [
    {
     "data": {
      "application/vnd.jupyter.widget-view+json": {
       "model_id": "f24917f2c2de444eaf0998ac1f9b46b7",
       "version_major": 2,
       "version_minor": 0
      },
      "text/plain": [
       "HBox(children=(IntProgress(value=0, max=1000), HTML(value='')))"
      ]
     },
     "metadata": {},
     "output_type": "display_data"
    },
    {
     "name": "stdout",
     "output_type": "stream",
     "text": [
      "\n"
     ]
    },
    {
     "data": {
      "image/png": "[encoded data removed]",
      "text/plain": [
       "<Figure size 432x288 with 1 Axes>"
      ]
     },
     "metadata": {
      "needs_background": "light"
     },
     "output_type": "display_data"
    }
   ],
   "source": [
    "importance = ffnn.fit(x_train, y_train, 1000, 0.009)\n",
    "importance = importance[:, 0]"
   ]
  },
  {
   "cell_type": "markdown",
   "metadata": {},
   "source": [
    "# Feature Importance"
   ]
  },
  {
   "cell_type": "code",
   "execution_count": 34,
   "metadata": {},
   "outputs": [
    {
     "data": {
      "image/png": "[encoded data removed]",
      "text/plain": [
       "<Figure size 432x288 with 1 Axes>"
      ]
     },
     "metadata": {
      "needs_background": "light"
     },
     "output_type": "display_data"
    }
   ],
   "source": [
    "plt.bar([x for x in range(len(importance))], importance)\n",
    "plt.show()"
   ]
  },
  {
   "cell_type": "code",
   "execution_count": 44,
   "metadata": {},
   "outputs": [
    {
     "name": "stderr",
     "output_type": "stream",
     "text": [
      "C:\\Users\\Atul Singh\\Anaconda3\\lib\\site-packages\\sklearn\\linear_model\\logistic.py:432: FutureWarning: Default solver will be changed to 'lbfgs' in 0.22. Specify a solver to silence this warning.\n",
      "  FutureWarning)\n",
      "C:\\Users\\Atul Singh\\Anaconda3\\lib\\site-packages\\sklearn\\utils\\validation.py:724: DataConversionWarning: A column-vector y was passed when a 1d array was expected. Please change the shape of y to (n_samples, ), for example using ravel().\n",
      "  y = column_or_1d(y, warn=True)\n"
     ]
    },
    {
     "name": "stdout",
     "output_type": "stream",
     "text": [
      "0.7320754716981132\n",
      "0.6666666666666666\n"
     ]
    }
   ],
   "source": [
    "from sklearn.linear_model import LogisticRegression\n",
    "model = LogisticRegression()\n",
    "model.fit(x_train, y_train)\n",
    "print(accuracy_score(model.predict(x_train), y_train))\n",
    "print(accuracy_score(model.predict(x_test), y_test))"
   ]
  },
  {
   "cell_type": "markdown",
   "metadata": {},
   "source": [
    "# Checking the accuracy of the model"
   ]
  },
  {
   "cell_type": "code",
   "execution_count": 45,
   "metadata": {},
   "outputs": [
    {
     "name": "stdout",
     "output_type": "stream",
     "text": [
      "Training accuracy 0.73\n",
      "Validation accuracy 0.67\n"
     ]
    }
   ],
   "source": [
    "y_pred_train = ffnn.predict(x_train)\n",
    "y_pred_binarised_train = (y_pred_train >= 0.5).astype(\"int\").ravel()\n",
    "y_pred_test = ffnn.predict(x_test)\n",
    "y_pred_binarised_test = (y_pred_test >= 0.5).astype(\"int\").ravel()\n",
    "accuracy_train = accuracy_score(y_pred_binarised_train, y_train)\n",
    "accuracy_val = accuracy_score(y_pred_binarised_test, y_test)\n",
    "\n",
    "print(\"Training accuracy\", round(accuracy_train, 2))\n",
    "print(\"Validation accuracy\", round(accuracy_val, 2))"
   ]
  }
 ],
 "metadata": {
  "kernelspec": {
   "display_name": "Python 3",
   "language": "python",
   "name": "python3"
  },
  "language_info": {
   "codemirror_mode": {
    "name": "ipython",
    "version": 3
   },
   "file_extension": ".py",
   "mimetype": "text/x-python",
   "name": "python",
   "nbconvert_exporter": "python",
   "pygments_lexer": "ipython3",
   "version": "3.7.4"
  }
 },
 "nbformat": 4,
 "nbformat_minor": 2
}
